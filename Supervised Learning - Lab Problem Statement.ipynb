{
 "cells": [
  {
   "cell_type": "markdown",
   "id": "fcbd582c",
   "metadata": {
    "id": "fcbd582c"
   },
   "source": [
    "## Learning Outcomes\n",
    "- Exploratory data analysis & preparing the data for model building. \n",
    "- Machine Learning - Supervised Learning Classification\n",
    "  - Logistic Regression\n",
    "  - Naive bayes Classifier\n",
    "  - KNN Classifier\n",
    "  - Decision Tree Classifier\n",
    "  - Random Forest Classifier\n",
    "  - Ensemble methods\n",
    "- Training and making predictions using different classification models.\n",
    "- Model evaluation"
   ]
  },
  {
   "cell_type": "markdown",
   "id": "f2e961f9",
   "metadata": {
    "id": "f2e961f9"
   },
   "source": [
    "## Objective: \n",
    "- The Classification goal is to predict “heart disease” in a person with regards to different factors given. \n",
    "\n",
    "## Context:\n",
    "- Heart disease is one of the leading causes of death for people of most races in the US. At least 1 of 3 key risk factors for heart disease: high blood pressure, high cholesterol, and smoking. \n",
    "- Detecting and preventing the factors that have the greatest impact on heart disease is very important in healthcare. Machine learning methods may detect \"patterns\" from the data and can predict whether a patient is suffering from any heart disease or not..\n",
    "\n",
    "## Dataset Information\n",
    "\n",
    "#### Source: https://www.kaggle.com/datasets/kamilpytlak/personal-key-indicators-of-heart-disease?datasetId=1936563&sortBy=voteCount\n",
    "Originally, the dataset come from the CDC and is a major part of the Behavioral Risk Factor Surveillance System (BRFSS), which conducts annual telephone surveys to gather data on the health status of U.S. residents. \n",
    "\n",
    "This dataset consists of eighteen columns\n",
    "- HeartDisease: Respondents that have ever reported having coronary heart disease (CHD) or myocardial infarction (MI)\n",
    "- BMI: Body Mass Index (BMI)\n",
    "- Smoking: smoked at least 100 cigarettes in your entire life\n",
    "- AlcoholDrinking: Heavy drinkers (adult men having more than 14 drinks per week and adult women having more than 7 drinks per week\n",
    "- Stroke:Ever had a stroke?\n",
    "- PhysicalHealth: physical health, which includes physical illness and injury\n",
    "- MentalHealth: for how many days during the past 30 days was your mental health not good?\n",
    "- DiffWalking: Do you have serious difficulty walking or climbing stairs?\n",
    "- Sex: male or female?\n",
    "- AgeCategory: Fourteen-level age category\n",
    "- Race: Imputed race/ethnicity value\n",
    "- Diabetic: diabetes?\n",
    "- PhysicalActivity: Adults who reported doing physical activity or exercise during the past 30 days other than their regular job\n",
    "- GenHealth: Would you say that in general your health is good, fine or excellent?\n",
    "- SleepTime: On average, how many hours of sleep do you get in a 24-hour period?\n",
    "- Asthma: you had asthma?\n",
    "- KidneyDisease: Not including kidney stones, bladder infection or incontinence, were you ever told you had kidney disease?\n",
    "- SkinCancer: Ever had skin cancer?"
   ]
  },
  {
   "cell_type": "markdown",
   "id": "f8617014",
   "metadata": {
    "id": "f8617014"
   },
   "source": [
    "### 1. Importing Libraries"
   ]
  },
  {
   "cell_type": "code",
   "execution_count": null,
   "id": "c7172d3b",
   "metadata": {
    "id": "c7172d3b"
   },
   "outputs": [],
   "source": [
    "import pandas as pd\n",
    "from sklearn.model_selection import train_test_split\n",
    "from sklearn.preprocessing import StandardScaler, LabelEncoder, OneHotEncoder\n",
    "from sklearn.linear_model import LogisticRegression\n",
    "from sklearn.neighbors import KNeighborsClassifier\n",
    "from sklearn.naive_bayes import GaussianNB\n",
    "from sklearn.tree import DecisionTreeClassifier\n",
    "from sklearn.ensemble import RandomForestClassifier, AdaBoostClassifier, GradientBoostingClassifier\n",
    "from sklearn.metrics import accuracy_score\n",
    "from sklearn.ensemble import StackingClassifier\n",
    "from sklearn.pipeline import make_pipeline\n"
   ]
  },
  {
   "cell_type": "markdown",
   "id": "8fe1a778",
   "metadata": {
    "id": "8fe1a778"
   },
   "source": [
    "### 2. Load the dataset and display a sample of five rows of the data frame."
   ]
  },
  {
   "cell_type": "code",
   "execution_count": null,
   "id": "70984f5f",
   "metadata": {
    "id": "70984f5f"
   },
   "outputs": [],
   "source": [
    "url = \"https://www.kaggle.com/datasets/kamilpytlak/personal-key-indicators-of-heart-disease?datasetId=1936563&sortBy=voteCount\"\n",
    "df = pd.read_csv(url)\n",
    "print(df.head())\n",
    "\n"
   ]
  },
  {
   "cell_type": "markdown",
   "id": "eda763be",
   "metadata": {
    "id": "eda763be"
   },
   "source": [
    "### 3. Check the shape of the data (number of rows and columns). Check the general information about the dataframe using the .info() method."
   ]
  },
  {
   "cell_type": "code",
   "execution_count": null,
   "id": "c246297d",
   "metadata": {
    "id": "c246297d"
   },
   "outputs": [],
   "source": [
    "print(\"Shape of the data:\", df.shape)\n",
    "print(df.info())\n",
    "\n"
   ]
  },
  {
   "cell_type": "markdown",
   "id": "b8470476",
   "metadata": {
    "id": "b8470476"
   },
   "source": [
    "### 4. Check the statistical summary of the dataset and write your inferences."
   ]
  },
  {
   "cell_type": "code",
   "execution_count": null,
   "id": "b28786f2",
   "metadata": {
    "id": "b28786f2"
   },
   "outputs": [],
   "source": [
    "print(\"Statistical summary:\\n\", df.describe())"
   ]
  },
  {
   "cell_type": "markdown",
   "id": "25d21a69",
   "metadata": {
    "id": "25d21a69"
   },
   "source": [
    "### 5. Check the percentage of missing values in each column of the data frame. Drop the missing values if there are any."
   ]
  },
  {
   "cell_type": "code",
   "execution_count": null,
   "id": "20d33888",
   "metadata": {
    "id": "20d33888"
   },
   "outputs": [],
   "source": [
    "missing_percent = df.isnull().sum() / len(df) * 100\n",
    "print(\"Percentage of missing values:\\n\", missing_percent)\n",
    "df = df.dropna()"
   ]
  },
  {
   "cell_type": "markdown",
   "id": "030b4016",
   "metadata": {
    "id": "030b4016"
   },
   "source": [
    "### 6. Check if there are any duplicate rows. If any drop them and check the shape of the dataframe after dropping duplicates."
   ]
  },
  {
   "cell_type": "code",
   "execution_count": null,
   "id": "11f42ddc",
   "metadata": {
    "id": "11f42ddc"
   },
   "outputs": [],
   "source": [
    "print(\"Number of duplicate rows:\", df.duplicated().sum())\n",
    "df = df.drop_duplicates()\n"
   ]
  },
  {
   "cell_type": "markdown",
   "id": "817d0f41",
   "metadata": {
    "id": "817d0f41"
   },
   "source": [
    "### 7. Check the distribution of the target variable (i.e. 'HeartDisease') and write your observations."
   ]
  },
  {
   "cell_type": "code",
   "execution_count": null,
   "id": "62d1e2b3",
   "metadata": {
    "id": "62d1e2b3"
   },
   "outputs": [],
   "source": [
    "print(\"Distribution of the target variable:\\n\", df['HeartDisease'].value_counts(normalize=True))\n"
   ]
  },
  {
   "cell_type": "markdown",
   "id": "1cd33e88",
   "metadata": {
    "id": "1cd33e88"
   },
   "source": [
    "### 8. Visualize the distribution of the target column 'Heart disease' with respect to various categorical features and write your observations."
   ]
  },
  {
   "cell_type": "code",
   "execution_count": null,
   "id": "888be5c5",
   "metadata": {
    "id": "888be5c5"
   },
   "outputs": [],
   "source": [
    "import seaborn as sns\n",
    "import matplotlib.pyplot as plt\n",
    "\n",
    "plt.figure(figsize=(15, 8))\n",
    "sns.countplot(x='Race', hue='HeartDisease', data=df)\n",
    "plt.show()"
   ]
  },
  {
   "cell_type": "markdown",
   "id": "11af76b7",
   "metadata": {
    "id": "11af76b7"
   },
   "source": [
    "### 9. Check the unique categories in the column 'Diabetic'. Replace 'Yes (during pregnancy)' as 'Yes' and 'No, borderline diabetes' as 'No'."
   ]
  },
  {
   "cell_type": "code",
   "execution_count": null,
   "id": "86fccebe",
   "metadata": {
    "id": "86fccebe"
   },
   "outputs": [],
   "source": [
    "df['Diabetic'] = df['Diabetic'].replace({'Yes (during pregnancy)': 'Yes', 'No, borderline diabetes': 'No'})\n"
   ]
  },
  {
   "cell_type": "markdown",
   "id": "e204cd08",
   "metadata": {
    "id": "e204cd08"
   },
   "source": [
    "### 10. For the target column 'HeartDiease', Replace 'No' as 0 and 'Yes' as 1. "
   ]
  },
  {
   "cell_type": "code",
   "execution_count": null,
   "id": "22190734",
   "metadata": {
    "id": "22190734"
   },
   "outputs": [],
   "source": [
    "df['HeartDisease'] = df['HeartDisease'].replace({'No': 0, 'Yes': 1})"
   ]
  },
  {
   "cell_type": "markdown",
   "id": "7cdb58cd",
   "metadata": {
    "id": "7cdb58cd"
   },
   "source": [
    "### 11. Label Encode the columns \"AgeCategory\", \"Race\", and \"GenHealth\". Encode the rest of the columns using dummy encoding approach."
   ]
  },
  {
   "cell_type": "code",
   "execution_count": null,
   "id": "707747be",
   "metadata": {
    "id": "707747be"
   },
   "outputs": [],
   "source": [
    "label_encoder = LabelEncoder()\n",
    "df['AgeCategory'] = label_encoder.fit_transform(df['AgeCategory'])\n",
    "df['Race'] = label_encoder.fit_transform(df['Race'])\n",
    "df['GenHealth'] = label_encoder.fit_transform(df['GenHealth'])\n",
    "df = pd.get_dummies(df, columns=['Smoking', 'AlcoholDrinking', 'Stroke', 'PhysicalHealth', 'MentalHealth', 'DiffWalking', 'Sex', 'Diabetic', 'PhysicalActivity', 'Asthma', 'KidneyDisease', 'SkinCancer'], drop_first=True)\n"
   ]
  },
  {
   "cell_type": "markdown",
   "id": "ddb3a715",
   "metadata": {
    "id": "ddb3a715"
   },
   "source": [
    "### 12. Store the target column (i.e.'HeartDisease') in the y variable and the rest of the columns in the X variable."
   ]
  },
  {
   "cell_type": "code",
   "execution_count": null,
   "id": "9628128c",
   "metadata": {
    "id": "9628128c"
   },
   "outputs": [],
   "source": [
    "X = df.drop('HeartDisease', axis=1)\n",
    "y = df['HeartDisease']\n"
   ]
  },
  {
   "cell_type": "markdown",
   "id": "68db6b1e",
   "metadata": {
    "id": "68db6b1e"
   },
   "source": [
    "### 13. Split the dataset into two parts (i.e. 70% train and 30% test) and print the shape of the train and test data"
   ]
  },
  {
   "cell_type": "code",
   "execution_count": null,
   "id": "0077d21b",
   "metadata": {
    "id": "0077d21b"
   },
   "outputs": [],
   "source": [
    "X_train, X_test, y_train, y_test = train_test_split(X, y, test_size=0.3, random_state=42)\n"
   ]
  },
  {
   "cell_type": "markdown",
   "id": "495ea012",
   "metadata": {
    "id": "495ea012"
   },
   "source": [
    "### 14. Standardize the numerical columns using Standard Scalar approach for both train and test data."
   ]
  },
  {
   "cell_type": "code",
   "execution_count": null,
   "id": "19357a7b",
   "metadata": {
    "id": "19357a7b"
   },
   "outputs": [],
   "source": [
    "scaler = StandardScaler()\n",
    "X_train_scaled = scaler.fit_transform(X_train)\n",
    "X_test_scaled = scaler.transform(X_test)\n"
   ]
  },
  {
   "cell_type": "markdown",
   "id": "84d0e4a4",
   "metadata": {
    "id": "84d0e4a4"
   },
   "source": [
    "### 15. Write a function.\n",
    "- i) Which can take the model and data as inputs.\n",
    "- ii) Fits the model with the train data.\n",
    "- iii) Makes predictions on the test set.\n",
    "- iv) Returns the Accuracy Score."
   ]
  },
  {
   "cell_type": "code",
   "execution_count": null,
   "id": "e02c8c82",
   "metadata": {
    "id": "e02c8c82"
   },
   "outputs": [],
   "source": [
    "def train_evaluate_model(model, X_train, y_train, X_test, y_test):\n",
    "    model.fit(X_train, y_train)\n",
    "    y_pred = model.predict(X_test)\n",
    "    accuracy = accuracy_score(y_test, y_pred)\n",
    "    return accuracy\n"
   ]
  },
  {
   "cell_type": "markdown",
   "id": "e709b9d4",
   "metadata": {
    "id": "e709b9d4"
   },
   "source": [
    "### 16. Use the function and train a Logistic regression, KNN, Naive Bayes, Decision tree, Random Forest, Adaboost, GradientBoost, and Stacked Classifier models and make predictions on test data and evaluate the models, compare and write your conclusions and steps to be taken in future in order to improve the accuracy of the model."
   ]
  },
  {
   "cell_type": "code",
   "execution_count": null,
   "id": "a63e0e03",
   "metadata": {
    "id": "a63e0e03"
   },
   "outputs": [],
   "source": [
    "models = {\n",
    "    'Logistic Regression': LogisticRegression(),\n",
    "    'KNN Classifier': KNeighborsClassifier(),\n",
    "    'Naive Bayes Classifier': GaussianNB(),\n",
    "    'Decision Tree Classifier': DecisionTreeClassifier(),\n",
    "    'Random Forest Classifier': RandomForestClassifier(),\n",
    "    'AdaBoost Classifier': AdaBoostClassifier(),\n",
    "    'GradientBoost Classifier': GradientBoostingClassifier(),\n",
    "}\n",
    "\n",
    "for model_name, model in models.items():\n",
    "    accuracy = train_evaluate_model(model, X_train_scaled, y_train, X_test_scaled, y_test)\n",
    "    print(f\"{model_name} Accuracy: {accuracy}\")\n",
    "    stacked_model = StackingClassifier(\n",
    "    estimators=list(models.items()), final_estimator=LogisticRegression()\n",
    ")\n",
    "stacked_accuracy = train_evaluate_model(stacked_model, X_train_scaled, y_train, X_test_scaled, y_test)\n",
    "print(f\"Stacked Classifier Accuracy: {stacked_accuracy}\")"
   ]
  },
  {
   "cell_type": "markdown",
   "id": "K5f-IKPLV3bN",
   "metadata": {
    "id": "K5f-IKPLV3bN"
   },
   "source": [
    "### Conclusion"
   ]
  },
  {
   "cell_type": "code",
   "execution_count": null,
   "id": "e18c82e0",
   "metadata": {
    "id": "e18c82e0"
   },
   "outputs": [],
   "source": []
  },
  {
   "cell_type": "markdown",
   "id": "515596d0",
   "metadata": {
    "id": "515596d0"
   },
   "source": [
    "----\n",
    "## Happy Learning:)\n",
    "----"
   ]
  }
 ],
 "metadata": {
  "colab": {
   "collapsed_sections": [],
   "name": "Supervised Learning - Lab Session .ipynb",
   "provenance": []
  },
  "kernelspec": {
   "display_name": "Python 3 (ipykernel)",
   "language": "python",
   "name": "python3"
  },
  "language_info": {
   "codemirror_mode": {
    "name": "ipython",
    "version": 3
   },
   "file_extension": ".py",
   "mimetype": "text/x-python",
   "name": "python",
   "nbconvert_exporter": "python",
   "pygments_lexer": "ipython3",
   "version": "3.11.5"
  }
 },
 "nbformat": 4,
 "nbformat_minor": 5
}
